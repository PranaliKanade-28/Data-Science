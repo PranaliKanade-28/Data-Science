{
 "cells": [
  {
   "cell_type": "code",
   "execution_count": 1,
   "metadata": {},
   "outputs": [],
   "source": [
    "import os \n",
    "import random"
   ]
  },
  {
   "cell_type": "code",
   "execution_count": 2,
   "metadata": {},
   "outputs": [],
   "source": [
    "# Renaming files in the data\n",
    "def renameFiles(path_name):\n",
    "    i = 1\n",
    "    path=\"./data/multi-class/input/\" + path_name + '/'\n",
    "    for filename in os.listdir(path):\n",
    "        array_split = filename.split(\".\")\n",
    "        my_dest = path_name + str(i) + '.' + array_split[-1]\n",
    "        my_source =path + filename\n",
    "        my_dest =path + my_dest\n",
    "        os.rename(my_source, my_dest)\n",
    "        i += 1"
   ]
  },
  {
   "cell_type": "code",
   "execution_count": 3,
   "metadata": {},
   "outputs": [],
   "source": [
    "# Rename all the data folders\n",
    "renameFiles('stop')\n",
    "renameFiles('warning')\n",
    "renameFiles('regulatory')"
   ]
  },
  {
   "cell_type": "raw",
   "metadata": {},
   "source": [
    "!pip install split-folders\n",
    "!pip install split-folders tqdm"
   ]
  },
  {
   "cell_type": "code",
   "execution_count": 4,
   "metadata": {},
   "outputs": [
    {
     "name": "stderr",
     "output_type": "stream",
     "text": [
      "Copying files: 739 files [00:01, 651.97 files/s]\n"
     ]
    }
   ],
   "source": [
    "# To split dataset into train-test-validation\n",
    "import splitfolders\n",
    "splitfolders.ratio(\"./data/multi-class/input\", output=\"./data/multi-class/output\", seed=1337, ratio=(.8, .2, .0), group_prefix=None) # default values"
   ]
  },
  {
   "cell_type": "code",
   "execution_count": 5,
   "metadata": {},
   "outputs": [
    {
     "name": "stderr",
     "output_type": "stream",
     "text": [
      "Copying files: 474 files [00:00, 929.74 files/s]\n"
     ]
    }
   ],
   "source": [
    "splitfolders.ratio(\"./data/binary/input\", output=\"./data/binary/output\", seed=1337, ratio=(.8, .2, .0), group_prefix=None) # default values"
   ]
  },
  {
   "cell_type": "code",
   "execution_count": null,
   "metadata": {},
   "outputs": [],
   "source": []
  }
 ],
 "metadata": {
  "kernelspec": {
   "display_name": "Python 3",
   "language": "python",
   "name": "python3"
  },
  "language_info": {
   "codemirror_mode": {
    "name": "ipython",
    "version": 3
   },
   "file_extension": ".py",
   "mimetype": "text/x-python",
   "name": "python",
   "nbconvert_exporter": "python",
   "pygments_lexer": "ipython3",
   "version": "3.7.6"
  }
 },
 "nbformat": 4,
 "nbformat_minor": 4
}
