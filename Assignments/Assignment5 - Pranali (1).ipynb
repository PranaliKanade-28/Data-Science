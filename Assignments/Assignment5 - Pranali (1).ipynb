{
 "cells": [
  {
   "cell_type": "code",
   "execution_count": 1,
   "metadata": {},
   "outputs": [],
   "source": [
    "import numpy as np\n",
    "import os\n",
    "from matplotlib import pyplot as plt\n",
    "import cv2\n",
    "import random"
   ]
  },
  {
   "cell_type": "code",
   "execution_count": 2,
   "metadata": {},
   "outputs": [],
   "source": [
    "dpath=\"V:\\Pranali\\Assignment 5\\Assignment 5\"\n",
    "logo_class=[\"new\",\"old\"]"
   ]
  },
  {
   "cell_type": "code",
   "execution_count": 6,
   "metadata": {},
   "outputs": [],
   "source": [
    "# 1. Load the two folders USF old and USF new to the environment\n",
    "training_data = []\n",
    "\n",
    "def create_training_data():\n",
    "    for category in logo_class:\n",
    "        path = os.path.join(dpath, category)\n",
    "        class_num = logo_class.index(category)\n",
    "        for img in os.listdir(path):\n",
    "            try :\n",
    "                img_array = cv2.imread(os.path.join(path, img))\n",
    "# 3. Resize the images to one size for model input                \n",
    "                new_array = cv2.resize(img_array, (212, 264))\n",
    "                training_data.append([new_array, class_num])\n",
    "            except Exception as e:\n",
    "                pass"
   ]
  },
  {
   "cell_type": "code",
   "execution_count": 7,
   "metadata": {},
   "outputs": [],
   "source": [
    "create_training_data()"
   ]
  },
  {
   "cell_type": "code",
   "execution_count": 8,
   "metadata": {},
   "outputs": [],
   "source": [
    "# 2. Create a label for each folder(USF old as old) and (USF new as new)\n",
    "random.shuffle(training_data)\n",
    "\n",
    "X,y = [],[] \n",
    "for features, label in training_data:\n",
    "    X.append(features)\n",
    "    y.append(label)\n",
    "\n",
    "X = np.array(X)\n"
   ]
  },
  {
   "cell_type": "code",
   "execution_count": 9,
   "metadata": {},
   "outputs": [],
   "source": [
    "# 5. Normalize the data\n",
    "X = X/255.0"
   ]
  },
  {
   "cell_type": "code",
   "execution_count": 10,
   "metadata": {},
   "outputs": [],
   "source": [
    "# 4. Create a stratified split based on the labels(80:20 split)\n",
    "from sklearn.model_selection import train_test_split\n",
    "\n",
    "X_train, X_test, y_train, y_test = train_test_split(X, y, test_size=0.2, stratify=y)"
   ]
  },
  {
   "cell_type": "code",
   "execution_count": 12,
   "metadata": {},
   "outputs": [],
   "source": [
    "j,k=0,0\n",
    "\n",
    "for i in y_train:\n",
    "    if (i == 0):\n",
    "        j=j+1\n",
    "        \n",
    "for i in y_test:\n",
    "    if (i == 0):\n",
    "        k=k+1\n"
   ]
  },
  {
   "cell_type": "code",
   "execution_count": 13,
   "metadata": {},
   "outputs": [],
   "source": [
    "X_train = X_train/255.0\n",
    "X_test = X_test/255.0"
   ]
  },
  {
   "cell_type": "code",
   "execution_count": 14,
   "metadata": {},
   "outputs": [],
   "source": [
    "#Changing the y lists to arrays.\n",
    "y_train=np.array(y_train)\n",
    "y_test=np.array(y_test)"
   ]
  },
  {
   "cell_type": "code",
   "execution_count": null,
   "metadata": {},
   "outputs": [],
   "source": [
    "# 6. Reshape the input data to a tensor(4d) for CNN"
   ]
  },
  {
   "cell_type": "code",
   "execution_count": 15,
   "metadata": {},
   "outputs": [
    {
     "data": {
      "text/plain": [
       "(160, 264, 212, 3)"
      ]
     },
     "execution_count": 15,
     "metadata": {},
     "output_type": "execute_result"
    }
   ],
   "source": [
    "X_train.shape"
   ]
  },
  {
   "cell_type": "code",
   "execution_count": 16,
   "metadata": {},
   "outputs": [],
   "source": [
    "import tensorflow as tf \n",
    "from tensorflow.keras.models import Sequential\n",
    "from tensorflow.keras.layers import Dense, Dropout, Activation, Flatten, Conv2D, MaxPooling2D\n",
    "import matplotlib.pyplot as plt"
   ]
  },
  {
   "cell_type": "code",
   "execution_count": 18,
   "metadata": {},
   "outputs": [
    {
     "name": "stdout",
     "output_type": "stream",
     "text": [
      "Train on 160 samples\n",
      "Epoch 1/10\n",
      "160/160 [==============================] - 7s 44ms/sample - loss: 0.6943 - accuracy: 0.4938\n",
      "Epoch 2/10\n",
      "160/160 [==============================] - 6s 40ms/sample - loss: 0.6933 - accuracy: 0.5000\n",
      "Epoch 3/10\n",
      "160/160 [==============================] - 6s 40ms/sample - loss: 0.6826 - accuracy: 0.5375\n",
      "Epoch 4/10\n",
      "160/160 [==============================] - 6s 40ms/sample - loss: 0.6382 - accuracy: 0.6187\n",
      "Epoch 5/10\n",
      "160/160 [==============================] - 6s 40ms/sample - loss: 0.6039 - accuracy: 0.7937\n",
      "Epoch 6/10\n",
      "160/160 [==============================] - 6s 40ms/sample - loss: 0.5618 - accuracy: 0.7812\n",
      "Epoch 7/10\n",
      "160/160 [==============================] - 7s 41ms/sample - loss: 0.5178 - accuracy: 0.8375\n",
      "Epoch 8/10\n",
      "160/160 [==============================] - 6s 41ms/sample - loss: 0.5096 - accuracy: 0.7750\n",
      "Epoch 9/10\n",
      "160/160 [==============================] - 6s 38ms/sample - loss: 0.4705 - accuracy: 0.8250\n",
      "Epoch 10/10\n",
      "160/160 [==============================] - 6s 40ms/sample - loss: 0.4373 - accuracy: 0.8000\n"
     ]
    }
   ],
   "source": [
    "# 7. Build a CNN Classifier model and improve it by tuning the hyper parameters\n",
    "\n",
    "model = Sequential()\n",
    "# 3 convolutional layers\n",
    "model.add(Conv2D(32, (4,4), input_shape = (264, 212,3)))\n",
    "model.add(Activation(\"relu\"))\n",
    "model.add(MaxPooling2D(pool_size=(3,3)))\n",
    "\n",
    "model.add(Conv2D(64, (4,4)))\n",
    "model.add(Activation(\"relu\"))\n",
    "model.add(MaxPooling2D(pool_size=(3,3)))\n",
    "\n",
    "model.add(Conv2D(64, (4,4)))\n",
    "model.add(Activation(\"relu\"))\n",
    "model.add(MaxPooling2D(pool_size=(3,3)))\n",
    "model.add(Dropout(0.25))\n",
    "\n",
    "# 2 hidden layers\n",
    "model.add(Flatten())\n",
    "model.add(Dense(128))\n",
    "model.add(Activation(\"relu\"))\n",
    "\n",
    "model.add(Dense(512))\n",
    "model.add(Activation(\"relu\"))\n",
    "\n",
    "# The output layer with 2 neurons, for 2 classes\n",
    "model.add(Dense(2))\n",
    "model.add(Activation(\"softmax\"))\n",
    "\n",
    "# Compiling the model using some basic parameters\n",
    "model.compile(loss=\"sparse_categorical_crossentropy\",\n",
    "\t\t\t\toptimizer=\"adam\",\n",
    "\t\t\t\tmetrics=[\"accuracy\"])\n",
    "\n",
    "# Training the model, with 40 iterations\n",
    "# validation_split corresponds to the percentage of images used for the validation phase compared to all the images\n",
    "history = model.fit(X_train, y_train, batch_size=32, epochs=10)\n"
   ]
  },
  {
   "cell_type": "code",
   "execution_count": null,
   "metadata": {},
   "outputs": [],
   "source": [
    "\"\"\"\n",
    "8. Explain what every layer does why was it constructed the way it is?\n",
    "\n",
    "Hidden layers allow for the function of a neural network to be broken down into specific transformations of the data. \n",
    "Each hidden layer function is specialized to produce a defined output.\n",
    "Kernel is used for feature detection\n",
    "As we keep applying conv layers, the size of the volume will decrease faster than we would like. \n",
    "In the early layers of our network, we want to preserve as much information about \n",
    "the original input volume so that we can extract those low level features.\n",
    "\"\"\""
   ]
  },
  {
   "cell_type": "code",
   "execution_count": 16,
   "metadata": {},
   "outputs": [
    {
     "name": "stdout",
     "output_type": "stream",
     "text": [
      "[[20  0]\n",
      " [20  0]]\n",
      "              precision    recall  f1-score   support\n",
      "\n",
      "           0       0.50      1.00      0.67        20\n",
      "           1       0.00      0.00      0.00        20\n",
      "\n",
      "    accuracy                           0.50        40\n",
      "   macro avg       0.25      0.50      0.33        40\n",
      "weighted avg       0.25      0.50      0.33        40\n",
      "\n"
     ]
    },
    {
     "name": "stderr",
     "output_type": "stream",
     "text": [
      "C:\\Users\\vidhi\\Anaconda3\\lib\\site-packages\\sklearn\\metrics\\_classification.py:1272: UndefinedMetricWarning: Precision and F-score are ill-defined and being set to 0.0 in labels with no predicted samples. Use `zero_division` parameter to control this behavior.\n",
      "  _warn_prf(average, modifier, msg_start, len(result))\n"
     ]
    }
   ],
   "source": [
    "# 9. Evaluate CNN using F1 score values and accuracy(only for the best model)\n",
    "from sklearn.metrics import classification_report, confusion_matrix\n",
    "\n",
    "y_pred = model.predict(test_X)\n",
    "\n",
    "\n",
    "ypred=[]\n",
    "\n",
    "for i in y_pred:\n",
    "    if i[0]>i[1]:\n",
    "        ypred.append(0)\n",
    "    else:\n",
    "        ypred.append(1)\n",
    "ypred=np.array(ypred)\n",
    "\n",
    "print(confusion_matrix(test_y,ypred))\n",
    "print(classification_report(test_y,ypred))"
   ]
  },
  {
   "cell_type": "code",
   "execution_count": 21,
   "metadata": {},
   "outputs": [
    {
     "data": {
      "image/png": "[encoded data removed]",
      "text/plain": [
       "<Figure size 576x360 with 1 Axes>"
      ]
     },
     "metadata": {
      "needs_background": "light"
     },
     "output_type": "display_data"
    }
   ],
   "source": [
    "# 10. Plot the learning curves for Model accuracy and Model loss\n",
    "import pandas as pd\n",
    "import matplotlib.pyplot as plt\n",
    "pd.DataFrame(history.history).plot(figsize=(8, 5))\n",
    "plt.grid(True)\n",
    "plt.gca().set_ylim(0, 1) # set the vertical range to [0-1]\n",
    "plt.show()"
   ]
  }
 ],
 "metadata": {
  "kernelspec": {
   "display_name": "Python 3",
   "language": "python",
   "name": "python3"
  },
  "language_info": {
   "codemirror_mode": {
    "name": "ipython",
    "version": 3
   },
   "file_extension": ".py",
   "mimetype": "text/x-python",
   "name": "python",
   "nbconvert_exporter": "python",
   "pygments_lexer": "ipython3",
   "version": "3.7.4"
  }
 },
 "nbformat": 4,
 "nbformat_minor": 2
}
